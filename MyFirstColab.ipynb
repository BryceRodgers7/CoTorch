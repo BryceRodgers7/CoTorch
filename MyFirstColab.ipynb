{
  "nbformat": 4,
  "nbformat_minor": 0,
  "metadata": {
    "colab": {
      "provenance": [],
      "gpuType": "T4",
      "authorship_tag": "ABX9TyPZnq00L4v/n9rhvn8LaMfn",
      "include_colab_link": true
    },
    "kernelspec": {
      "name": "python3",
      "display_name": "Python 3"
    },
    "language_info": {
      "name": "python"
    },
    "accelerator": "GPU"
  },
  "cells": [
    {
      "cell_type": "markdown",
      "metadata": {
        "id": "view-in-github",
        "colab_type": "text"
      },
      "source": [
        "<a href=\"https://colab.research.google.com/github/BryceRodgers7/CoTorch/blob/main/MyFirstColab.ipynb\" target=\"_parent\"><img src=\"https://colab.research.google.com/assets/colab-badge.svg\" alt=\"Open In Colab\"/></a>"
      ]
    },
    {
      "cell_type": "code",
      "execution_count": null,
      "metadata": {
        "colab": {
          "base_uri": "https://localhost:8080/"
        },
        "id": "LzZb6B1b3jwq",
        "outputId": "37814506-a958-4511-c152-eae21cb72ee6"
      },
      "outputs": [
        {
          "output_type": "execute_result",
          "data": {
            "text/plain": [
              "4"
            ]
          },
          "metadata": {},
          "execution_count": 1
        }
      ],
      "source": [
        "2+2\n"
      ]
    },
    {
      "cell_type": "code",
      "source": [
        "import torch\n",
        "import numpy as np\n",
        "python_list = [1,2,3,4,5,6,]\n",
        "python_2darray = [[1,11,12,13,14],[2,21,22,23,24]]\n",
        "\n",
        "# 2x3 array of random numbers\n",
        "np1 = np.random.rand(2,3)\n",
        "\n",
        "# 3x4 tensor of random numbers\n",
        "tensor_2d = torch.randn(3,4)\n",
        "\n",
        "# 2x3x4 tensor of all zero's\n",
        "tensor_3d = torch.zeros(2,3,4)\n",
        "\n",
        "# default data type for numpy is float64\n",
        "np1.dtype\n",
        "\n"
      ],
      "metadata": {
        "colab": {
          "base_uri": "https://localhost:8080/"
        },
        "id": "_xsWP4co3x88",
        "outputId": "7a78fb04-e320-4c2a-fea0-244f282d1722"
      },
      "execution_count": null,
      "outputs": [
        {
          "output_type": "execute_result",
          "data": {
            "text/plain": [
              "dtype('float64')"
            ]
          },
          "metadata": {},
          "execution_count": 4
        }
      ]
    },
    {
      "cell_type": "code",
      "source": [
        "# default data type for tensor is float32\n",
        "tensor_2d.dtype"
      ],
      "metadata": {
        "colab": {
          "base_uri": "https://localhost:8080/"
        },
        "id": "WF9qWDLP-l75",
        "outputId": "3fe94711-6bd1-49f6-8913-997cce370391"
      },
      "execution_count": null,
      "outputs": [
        {
          "output_type": "execute_result",
          "data": {
            "text/plain": [
              "torch.float32"
            ]
          },
          "metadata": {},
          "execution_count": 5
        }
      ]
    },
    {
      "cell_type": "code",
      "source": [
        "# 1-d array, numbers 0 thru 10\n",
        "tensor1d = torch.arange(11)\n",
        "tensor1d"
      ],
      "metadata": {
        "colab": {
          "base_uri": "https://localhost:8080/"
        },
        "id": "aJHxDv68-of2",
        "outputId": "c4dcd52a-d83b-4e00-a851-0a29a5832ce0"
      },
      "execution_count": null,
      "outputs": [
        {
          "output_type": "execute_result",
          "data": {
            "text/plain": [
              "tensor([ 0,  1,  2,  3,  4,  5,  6,  7,  8,  9, 10])"
            ]
          },
          "metadata": {},
          "execution_count": 6
        }
      ]
    },
    {
      "cell_type": "code",
      "source": [
        "# cut a 1-d array of length 10 into a (2x5) n-dimensional array with same number of elements\n",
        "ten = torch.arange(10)\n",
        "newTensor = ten.reshape(2,5)\n",
        "newTensor"
      ],
      "metadata": {
        "colab": {
          "base_uri": "https://localhost:8080/"
        },
        "id": "6Tp-xYgj_Gzb",
        "outputId": "0154d18c-698d-4f0d-f321-28b2238ebcf0"
      },
      "execution_count": null,
      "outputs": [
        {
          "output_type": "execute_result",
          "data": {
            "text/plain": [
              "tensor([[0, 1, 2, 3, 4],\n",
              "        [5, 6, 7, 8, 9]])"
            ]
          },
          "metadata": {},
          "execution_count": 7
        }
      ]
    },
    {
      "cell_type": "code",
      "source": [
        "# cut a 1-d array length 10 into a 2xm-dimensional array where m yields a matrix with same number of elements\n",
        "ten = torch.arange(10)\n",
        "newTensor2 = ten.reshape(2, -1)\n",
        "newTensor2"
      ],
      "metadata": {
        "colab": {
          "base_uri": "https://localhost:8080/"
        },
        "id": "9zYtvEK__upB",
        "outputId": "c3f47c9a-658b-4c11-ec3f-1d208c6ce00a"
      },
      "execution_count": null,
      "outputs": [
        {
          "output_type": "execute_result",
          "data": {
            "text/plain": [
              "tensor([[0, 1, 2, 3, 4],\n",
              "        [5, 6, 7, 8, 9]])"
            ]
          },
          "metadata": {},
          "execution_count": 8
        }
      ]
    },
    {
      "cell_type": "code",
      "source": [
        "# looks like reshape just presents the underlying data differently, so you will have many variables pointing to the same object in memory. Changing one variable changes them all.\n",
        "ten[2] = 8675309\n",
        "newTensor2"
      ],
      "metadata": {
        "colab": {
          "base_uri": "https://localhost:8080/"
        },
        "id": "s7zFBvb3A-EO",
        "outputId": "f9db59aa-6e00-4fa5-b6f7-de4c42f4acdd"
      },
      "execution_count": null,
      "outputs": [
        {
          "output_type": "execute_result",
          "data": {
            "text/plain": [
              "tensor([[      0,       1, 8675309,       3,       4],\n",
              "        [      5,       6,       7,       8,       9]])"
            ]
          },
          "metadata": {},
          "execution_count": 9
        }
      ]
    },
    {
      "cell_type": "code",
      "source": [
        "# also note that each element in a tensor seems to be a tensor, not a 'number' per se\n",
        "ten[2]\n",
        "\n"
      ],
      "metadata": {
        "colab": {
          "base_uri": "https://localhost:8080/"
        },
        "id": "t2hfr63YB5s_",
        "outputId": "7fc54fca-b52c-4de8-c680-2d4284c40172"
      },
      "execution_count": null,
      "outputs": [
        {
          "output_type": "execute_result",
          "data": {
            "text/plain": [
              "tensor(8675309)"
            ]
          },
          "metadata": {},
          "execution_count": 13
        }
      ]
    },
    {
      "cell_type": "code",
      "source": [
        "newTensor3 = newTensor2.reshape(5,2)\n",
        "newTensor3\n",
        "# get the 2nd column of the 5x2 array/tensor, AS A TENSOR\n",
        "newTensor3[:,1]\n",
        "\n",
        "#following is not necessarily true lol...\n",
        "# basic syntax: [ <expressionOfRows> , <expressionOfColumns> ]\n",
        "# : means 'all rows' or 'from first row until last row' and the ',' separates two expressions in the parenthesis. The last expression specifies which columns, in this case column #1 (0-indexed)"
      ],
      "metadata": {
        "colab": {
          "base_uri": "https://localhost:8080/"
        },
        "id": "rSymK7GnCijZ",
        "outputId": "af2330fc-5730-4139-d552-b678b587da56"
      },
      "execution_count": null,
      "outputs": [
        {
          "output_type": "execute_result",
          "data": {
            "text/plain": [
              "tensor([1, 3, 5, 7, 9])"
            ]
          },
          "metadata": {},
          "execution_count": 18
        }
      ]
    },
    {
      "cell_type": "code",
      "source": [
        "# keep the column 'shape' by adding another :\n",
        "newTensor3[:,1:]"
      ],
      "metadata": {
        "colab": {
          "base_uri": "https://localhost:8080/"
        },
        "id": "FpcDiC0QDvwE",
        "outputId": "9273d028-ae96-4e36-8fac-79c4864b1a0e"
      },
      "execution_count": null,
      "outputs": [
        {
          "output_type": "execute_result",
          "data": {
            "text/plain": [
              "tensor([[1],\n",
              "        [3],\n",
              "        [5],\n",
              "        [7],\n",
              "        [9]])"
            ]
          },
          "metadata": {},
          "execution_count": 19
        }
      ]
    },
    {
      "cell_type": "code",
      "source": [
        "tensorA = torch.tensor([1,2,3,4])\n",
        "tensorB = torch.tensor([5,6,7,8])\n",
        "\n",
        "# add these two tensors (gives same-dimension output)\n",
        "tensorA + tensorB\n",
        "\n",
        "# torch namespace '+' operator's definition?\n",
        "torch.add(tensorA, tensorB)"
      ],
      "metadata": {
        "colab": {
          "base_uri": "https://localhost:8080/"
        },
        "id": "4TKV0ElqEytV",
        "outputId": "7018a0ed-eb44-47eb-be63-808ae9bb3e9a"
      },
      "execution_count": null,
      "outputs": [
        {
          "output_type": "execute_result",
          "data": {
            "text/plain": [
              "tensor([ 6,  8, 10, 12])"
            ]
          },
          "metadata": {},
          "execution_count": 20
        }
      ]
    },
    {
      "cell_type": "code",
      "source": [
        "# subtraction\n",
        "tensorB - tensorA\n",
        "torch.sub(tensorB, tensorA)"
      ],
      "metadata": {
        "colab": {
          "base_uri": "https://localhost:8080/"
        },
        "id": "gr1i4reWFZ7Z",
        "outputId": "deee71cc-241c-46ba-a148-4fc0870670c5"
      },
      "execution_count": null,
      "outputs": [
        {
          "output_type": "execute_result",
          "data": {
            "text/plain": [
              "tensor([4, 4, 4, 4])"
            ]
          },
          "metadata": {},
          "execution_count": 21
        }
      ]
    },
    {
      "cell_type": "code",
      "source": [
        "# naive multiplication??\n",
        "tensorA * tensorB\n",
        "# should be same as\n",
        "torch.mul(tensorA, tensorB)"
      ],
      "metadata": {
        "colab": {
          "base_uri": "https://localhost:8080/"
        },
        "id": "yl_0KkfcFpgH",
        "outputId": "8ea2e2eb-b027-446e-ac8a-5e361b08de6e"
      },
      "execution_count": null,
      "outputs": [
        {
          "output_type": "execute_result",
          "data": {
            "text/plain": [
              "tensor([ 5, 12, 21, 32])"
            ]
          },
          "metadata": {},
          "execution_count": 24
        }
      ]
    },
    {
      "cell_type": "code",
      "source": [
        "# matrix division or naive??\n",
        "tensorB / tensorA\n",
        "torch.div(tensorB, tensorA)"
      ],
      "metadata": {
        "colab": {
          "base_uri": "https://localhost:8080/"
        },
        "id": "IysWrE4WFzlB",
        "outputId": "89504466-f38d-4c2c-fd3a-9f6f0693e120"
      },
      "execution_count": null,
      "outputs": [
        {
          "output_type": "execute_result",
          "data": {
            "text/plain": [
              "tensor([5.0000, 3.0000, 2.3333, 2.0000])"
            ]
          },
          "metadata": {},
          "execution_count": 25
        }
      ]
    },
    {
      "cell_type": "code",
      "source": [
        "# modulus operator gets remainder\n",
        "tensorB % tensorA\n",
        "# remainder NOT 'modulus'\n",
        "torch.remainder(tensorB, tensorA)"
      ],
      "metadata": {
        "colab": {
          "base_uri": "https://localhost:8080/"
        },
        "id": "q9gsScrFGB0T",
        "outputId": "e2c336d2-3704-4d99-bc3a-93e972b186d6"
      },
      "execution_count": null,
      "outputs": [
        {
          "output_type": "execute_result",
          "data": {
            "text/plain": [
              "tensor([0, 0, 1, 0])"
            ]
          },
          "metadata": {},
          "execution_count": 27
        }
      ]
    },
    {
      "cell_type": "code",
      "source": [
        "# naive exponential\n",
        "torch.pow(tensorA, tensorB)"
      ],
      "metadata": {
        "colab": {
          "base_uri": "https://localhost:8080/"
        },
        "id": "fc1wcyh3GQeH",
        "outputId": "56d59ad1-5944-4fb8-cd38-d424fed80a17"
      },
      "execution_count": null,
      "outputs": [
        {
          "output_type": "execute_result",
          "data": {
            "text/plain": [
              "tensor([    1,    64,  2187, 65536])"
            ]
          },
          "metadata": {},
          "execution_count": 28
        }
      ]
    },
    {
      "cell_type": "code",
      "source": [
        "# conveniently all these tensor functions can operate on themselves\n",
        "tensorA.add(tensorB)\n",
        "tensorB.div(tensorA)"
      ],
      "metadata": {
        "colab": {
          "base_uri": "https://localhost:8080/"
        },
        "id": "MKUpd9vYGhcJ",
        "outputId": "60e2e5e8-ca96-414a-b172-33ea121b94a7"
      },
      "execution_count": null,
      "outputs": [
        {
          "output_type": "execute_result",
          "data": {
            "text/plain": [
              "tensor([5.0000, 3.0000, 2.3333, 2.0000])"
            ]
          },
          "metadata": {},
          "execution_count": 29
        }
      ]
    },
    {
      "cell_type": "code",
      "source": [
        "# extra underscore at the end of these methods means it updates the 'self'\n",
        "tensorA"
      ],
      "metadata": {
        "colab": {
          "base_uri": "https://localhost:8080/"
        },
        "id": "FsnX1oziGxkB",
        "outputId": "59507a28-f0f8-4c01-989b-c46e45fed53f"
      },
      "execution_count": null,
      "outputs": [
        {
          "output_type": "execute_result",
          "data": {
            "text/plain": [
              "tensor([1, 2, 3, 4])"
            ]
          },
          "metadata": {},
          "execution_count": 30
        }
      ]
    },
    {
      "cell_type": "code",
      "source": [
        "tensorA.add_(tensorB)"
      ],
      "metadata": {
        "colab": {
          "base_uri": "https://localhost:8080/"
        },
        "id": "wXvPy5UUHFxX",
        "outputId": "44e36138-fc77-4c5a-e39c-643cf10265c3"
      },
      "execution_count": null,
      "outputs": [
        {
          "output_type": "execute_result",
          "data": {
            "text/plain": [
              "tensor([ 6,  8, 10, 12])"
            ]
          },
          "metadata": {},
          "execution_count": 31
        }
      ]
    },
    {
      "cell_type": "code",
      "source": [
        "# notice how this has the same value as the result above: tensorA + tensorB\n",
        "tensorA"
      ],
      "metadata": {
        "colab": {
          "base_uri": "https://localhost:8080/"
        },
        "id": "53qlm80cHNIr",
        "outputId": "fa61ef0c-240f-4fbd-f60f-96e0adca26f9"
      },
      "execution_count": null,
      "outputs": [
        {
          "output_type": "execute_result",
          "data": {
            "text/plain": [
              "tensor([ 6,  8, 10, 12])"
            ]
          },
          "metadata": {},
          "execution_count": 33
        }
      ]
    }
  ]
}