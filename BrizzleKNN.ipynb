{
  "nbformat": 4,
  "nbformat_minor": 0,
  "metadata": {
    "colab": {
      "provenance": [],
      "authorship_tag": "ABX9TyOq4uiy8zTVzXD34+T65ypM",
      "include_colab_link": true
    },
    "kernelspec": {
      "name": "python3",
      "display_name": "Python 3"
    },
    "language_info": {
      "name": "python"
    }
  },
  "cells": [
    {
      "cell_type": "markdown",
      "metadata": {
        "id": "view-in-github",
        "colab_type": "text"
      },
      "source": [
        "<a href=\"https://colab.research.google.com/github/BryceRodgers7/CoTorch/blob/main/BrizzleKNN.ipynb\" target=\"_parent\"><img src=\"https://colab.research.google.com/assets/colab-badge.svg\" alt=\"Open In Colab\"/></a>"
      ]
    },
    {
      "cell_type": "code",
      "execution_count": 16,
      "metadata": {
        "colab": {
          "base_uri": "https://localhost:8080/"
        },
        "id": "-mqWvOm0iBuu",
        "outputId": "241d0fe7-fafa-4a24-c230-934137d801dd"
      },
      "outputs": [
        {
          "output_type": "stream",
          "name": "stdout",
          "text": [
            "              precision    recall  f1-score   support\n",
            "\n",
            "      setosa       1.00      1.00      1.00         8\n",
            "  versicolor       0.93      0.87      0.90        15\n",
            "   virginica       0.75      0.86      0.80         7\n",
            "\n",
            "    accuracy                           0.90        30\n",
            "   macro avg       0.89      0.91      0.90        30\n",
            "weighted avg       0.91      0.90      0.90        30\n",
            "\n",
            "[[ 8  0  0]\n",
            " [ 0 13  2]\n",
            " [ 0  1  6]]\n"
          ]
        }
      ],
      "source": [
        "import numpy as np\n",
        "import matplotlib.pyplot as plt\n",
        "import pandas as pd\n",
        "from sklearn.model_selection import train_test_split\n",
        "from sklearn.preprocessing import StandardScaler\n",
        "from sklearn.neighbors import KNeighborsClassifier\n",
        "from sklearn.metrics import confusion_matrix\n",
        "from sklearn.metrics import classification_report\n",
        "\n",
        "## KNN model\n",
        "url = \"https://gist.githubusercontent.com/curran/a08a1080b88344b0c8a7/raw/0e7a9b0a5d22642a06d3d5b9bcbad9890c8ee534/iris.csv\"\n",
        "\n",
        "dataset = pd.read_csv(url)\n",
        "\n",
        "dataset.head()\n",
        "\n",
        "# all rows, all but last column\n",
        "X = dataset.iloc[:, :-1].values\n",
        "\n",
        "# all rows, (last) column #4\n",
        "y = dataset.iloc[:, 4].values\n",
        "\n",
        "X.shape\n",
        "y.shape\n",
        "\n",
        "# declare test & train sets of data, and same for 'class'\n",
        "X_train, X_test, y_train, y_test = train_test_split(X, y, test_size=.2)\n",
        "\n",
        "# get mean & std of feature data\n",
        "scaler = StandardScaler()\n",
        "scaler.fit(X_train)\n",
        "X_train = scaler.transform(X_train)\n",
        "X_test = scaler.transform(X_test)\n",
        "\n",
        "# create classifier with k=5, using training feature & class data\n",
        "classifier = KNeighborsClassifier(n_neighbors=5)\n",
        "classifier.fit(X_train, y_train)\n",
        "\n",
        "# make class predictions for test feature data\n",
        "y_prediction = classifier.predict(X_test)\n",
        "\n",
        "# see that we have ~90% accuracy, never missed a setosa, most trouble predicting virginicas\n",
        "print(classification_report(y_test, y_prediction))\n",
        "print(confusion_matrix(y_test, y_prediction))"
      ]
    },
    {
      "cell_type": "code",
      "source": [],
      "metadata": {
        "id": "3YDLLHETkcZw"
      },
      "execution_count": null,
      "outputs": []
    }
  ]
}